{
 "cells": [
  {
   "cell_type": "code",
   "execution_count": 56,
   "id": "aec1b05d",
   "metadata": {},
   "outputs": [],
   "source": [
    "from github import Github\n",
    "import dotenv\n",
    "import os"
   ]
  },
  {
   "cell_type": "code",
   "execution_count": 57,
   "id": "8cf784e8",
   "metadata": {},
   "outputs": [
    {
     "data": {
      "text/plain": [
       "True"
      ]
     },
     "execution_count": 57,
     "metadata": {},
     "output_type": "execute_result"
    }
   ],
   "source": [
    "dotenv.load_dotenv()"
   ]
  },
  {
   "cell_type": "code",
   "execution_count": 58,
   "id": "a22e73fa",
   "metadata": {},
   "outputs": [],
   "source": [
    "token = os.environ.get(\"GITHUB_API_TOKEN\")"
   ]
  },
  {
   "cell_type": "code",
   "execution_count": 59,
   "id": "f7101ae2",
   "metadata": {},
   "outputs": [],
   "source": [
    "github = Github(token)"
   ]
  },
  {
   "cell_type": "code",
   "execution_count": 60,
   "id": "4d983766",
   "metadata": {},
   "outputs": [],
   "source": [
    "l = github.get_users()"
   ]
  },
  {
   "cell_type": "code",
   "execution_count": 61,
   "id": "ebe838c6",
   "metadata": {},
   "outputs": [],
   "source": [
    "nu = l.get_page(0)[0]"
   ]
  },
  {
   "cell_type": "code",
   "execution_count": 62,
   "id": "0e3973fe",
   "metadata": {},
   "outputs": [
    {
     "data": {
      "text/plain": [
       "[Repository(full_name=\"mojombo/30daysoflaptops.github.io\"),\n",
       " Repository(full_name=\"mojombo/asteroids\"),\n",
       " Repository(full_name=\"mojombo/benbalter.github.com\"),\n",
       " Repository(full_name=\"mojombo/bert\"),\n",
       " Repository(full_name=\"mojombo/bert.erl\"),\n",
       " Repository(full_name=\"mojombo/bertrpc\"),\n",
       " Repository(full_name=\"mojombo/bower\"),\n",
       " Repository(full_name=\"mojombo/chronic\"),\n",
       " Repository(full_name=\"mojombo/clippy\"),\n",
       " Repository(full_name=\"mojombo/conceptual_algorithms\"),\n",
       " Repository(full_name=\"mojombo/cubesixel\"),\n",
       " Repository(full_name=\"mojombo/docz-website\"),\n",
       " Repository(full_name=\"mojombo/egitd\"),\n",
       " Repository(full_name=\"mojombo/endo\"),\n",
       " Repository(full_name=\"mojombo/erlang_pipe\"),\n",
       " Repository(full_name=\"mojombo/erlectricity\"),\n",
       " Repository(full_name=\"mojombo/erlectricity-presentation\"),\n",
       " Repository(full_name=\"mojombo/erlenmeyer\"),\n",
       " Repository(full_name=\"mojombo/ernie\"),\n",
       " Repository(full_name=\"mojombo/eventmachine\"),\n",
       " Repository(full_name=\"mojombo/fakegem\"),\n",
       " Repository(full_name=\"mojombo/fixture-scenarios\"),\n",
       " Repository(full_name=\"mojombo/git\"),\n",
       " Repository(full_name=\"mojombo/git-bzr\"),\n",
       " Repository(full_name=\"mojombo/github-flavored-markdown\"),\n",
       " Repository(full_name=\"mojombo/github-gem\"),\n",
       " Repository(full_name=\"mojombo/glowstick\"),\n",
       " Repository(full_name=\"mojombo/god\"),\n",
       " Repository(full_name=\"mojombo/gollum-demo\"),\n",
       " Repository(full_name=\"mojombo/grit\")]"
      ]
     },
     "execution_count": 62,
     "metadata": {},
     "output_type": "execute_result"
    }
   ],
   "source": [
    "nu.get_repos().get_page(0)"
   ]
  },
  {
   "cell_type": "code",
   "execution_count": 63,
   "id": "abbc526c",
   "metadata": {},
   "outputs": [
    {
     "data": {
      "text/plain": [
       "Repository(full_name=\"mojombo/chronic\")"
      ]
     },
     "execution_count": 63,
     "metadata": {},
     "output_type": "execute_result"
    }
   ],
   "source": [
    "repo = nu.get_repos().get_page(0)[7]\n",
    "repo"
   ]
  },
  {
   "cell_type": "code",
   "execution_count": 64,
   "id": "17993d4d",
   "metadata": {},
   "outputs": [
    {
     "data": {
      "text/plain": [
       "'Chronic is a pure Ruby natural language date parser.'"
      ]
     },
     "execution_count": 64,
     "metadata": {},
     "output_type": "execute_result"
    }
   ],
   "source": [
    "repo.description"
   ]
  },
  {
   "cell_type": "code",
   "execution_count": 65,
   "id": "d1085e30",
   "metadata": {},
   "outputs": [
    {
     "data": {
      "text/plain": [
       "Repository(full_name=\"mojombo/chronic\")"
      ]
     },
     "execution_count": 65,
     "metadata": {},
     "output_type": "execute_result"
    }
   ],
   "source": [
    "repo"
   ]
  },
  {
   "cell_type": "code",
   "execution_count": 66,
   "id": "d936fa76",
   "metadata": {},
   "outputs": [
    {
     "data": {
      "text/plain": [
       "ContentFile(path=\"README.md\")"
      ]
     },
     "execution_count": 66,
     "metadata": {},
     "output_type": "execute_result"
    }
   ],
   "source": [
    "repo.get_readme()"
   ]
  },
  {
   "cell_type": "code",
   "execution_count": 67,
   "id": "64df31e9",
   "metadata": {},
   "outputs": [
    {
     "data": {
      "text/plain": [
       "'tom@mojombo.com'"
      ]
     },
     "execution_count": 67,
     "metadata": {},
     "output_type": "execute_result"
    }
   ],
   "source": [
    "nu.email"
   ]
  },
  {
   "cell_type": "code",
   "execution_count": 68,
   "id": "69d13a12",
   "metadata": {},
   "outputs": [
    {
     "data": {
      "text/plain": [
       "['CHECK_AFTER_INIT_FLAG',\n",
       " 'avatar_url',\n",
       " 'bio',\n",
       " 'blog',\n",
       " 'collaborators',\n",
       " 'company',\n",
       " 'contributions',\n",
       " 'created_at',\n",
       " 'disk_usage',\n",
       " 'email',\n",
       " 'etag',\n",
       " 'events_url',\n",
       " 'followers',\n",
       " 'followers_url',\n",
       " 'following',\n",
       " 'following_url',\n",
       " 'get__repr__',\n",
       " 'get_events',\n",
       " 'get_followers',\n",
       " 'get_following',\n",
       " 'get_gists',\n",
       " 'get_keys',\n",
       " 'get_organization_membership',\n",
       " 'get_orgs',\n",
       " 'get_projects',\n",
       " 'get_public_events',\n",
       " 'get_public_received_events',\n",
       " 'get_received_events',\n",
       " 'get_repo',\n",
       " 'get_repos',\n",
       " 'get_starred',\n",
       " 'get_subscriptions',\n",
       " 'get_watched',\n",
       " 'gists_url',\n",
       " 'gravatar_id',\n",
       " 'has_in_following',\n",
       " 'hireable',\n",
       " 'html_url',\n",
       " 'id',\n",
       " 'invitation_teams_url',\n",
       " 'inviter',\n",
       " 'last_modified',\n",
       " 'location',\n",
       " 'login',\n",
       " 'name',\n",
       " 'node_id',\n",
       " 'organizations_url',\n",
       " 'owned_private_repos',\n",
       " 'permissions',\n",
       " 'plan',\n",
       " 'private_gists',\n",
       " 'public_gists',\n",
       " 'public_repos',\n",
       " 'raw_data',\n",
       " 'raw_headers',\n",
       " 'received_events_url',\n",
       " 'repos_url',\n",
       " 'role',\n",
       " 'setCheckAfterInitFlag',\n",
       " 'site_admin',\n",
       " 'starred_url',\n",
       " 'subscriptions_url',\n",
       " 'suspended_at',\n",
       " 'team_count',\n",
       " 'total_private_repos',\n",
       " 'twitter_username',\n",
       " 'type',\n",
       " 'update',\n",
       " 'updated_at',\n",
       " 'url']"
      ]
     },
     "execution_count": 68,
     "metadata": {},
     "output_type": "execute_result"
    }
   ],
   "source": [
    "[x for x in dir(nu) if not x.startswith(\"_\")]"
   ]
  },
  {
   "cell_type": "code",
   "execution_count": 69,
   "id": "b1aa52bc",
   "metadata": {},
   "outputs": [
    {
     "data": {
      "text/plain": [
       "'http://tom.preston-werner.com'"
      ]
     },
     "execution_count": 69,
     "metadata": {},
     "output_type": "execute_result"
    }
   ],
   "source": [
    "nu.blog"
   ]
  },
  {
   "cell_type": "code",
   "execution_count": 70,
   "id": "e50a1856",
   "metadata": {},
   "outputs": [
    {
     "data": {
      "text/plain": [
       "{'login': 'mojombo',\n",
       " 'id': 1,\n",
       " 'node_id': 'MDQ6VXNlcjE=',\n",
       " 'avatar_url': 'https://avatars.githubusercontent.com/u/1?v=4',\n",
       " 'gravatar_id': '',\n",
       " 'url': 'https://api.github.com/users/mojombo',\n",
       " 'html_url': 'https://github.com/mojombo',\n",
       " 'followers_url': 'https://api.github.com/users/mojombo/followers',\n",
       " 'following_url': 'https://api.github.com/users/mojombo/following{/other_user}',\n",
       " 'gists_url': 'https://api.github.com/users/mojombo/gists{/gist_id}',\n",
       " 'starred_url': 'https://api.github.com/users/mojombo/starred{/owner}{/repo}',\n",
       " 'subscriptions_url': 'https://api.github.com/users/mojombo/subscriptions',\n",
       " 'organizations_url': 'https://api.github.com/users/mojombo/orgs',\n",
       " 'repos_url': 'https://api.github.com/users/mojombo/repos',\n",
       " 'events_url': 'https://api.github.com/users/mojombo/events{/privacy}',\n",
       " 'received_events_url': 'https://api.github.com/users/mojombo/received_events',\n",
       " 'type': 'User',\n",
       " 'site_admin': False,\n",
       " 'name': 'Tom Preston-Werner',\n",
       " 'company': '@chatterbugapp, @redwoodjs, @preston-werner-ventures ',\n",
       " 'blog': 'http://tom.preston-werner.com',\n",
       " 'location': 'San Francisco',\n",
       " 'email': 'tom@mojombo.com',\n",
       " 'hireable': None,\n",
       " 'bio': None,\n",
       " 'twitter_username': 'mojombo',\n",
       " 'public_repos': 63,\n",
       " 'public_gists': 62,\n",
       " 'followers': 22883,\n",
       " 'following': 11,\n",
       " 'created_at': '2007-10-20T05:24:19Z',\n",
       " 'updated_at': '2022-02-18T16:48:14Z'}"
      ]
     },
     "execution_count": 70,
     "metadata": {},
     "output_type": "execute_result"
    }
   ],
   "source": [
    "{\n",
    "    attr: getattr(nu, attr)\n",
    "    for attr in [x for x in dir(nu) if not x.startswith(\"_\")]\n",
    "}.pop(\"raw_data\")"
   ]
  },
  {
   "cell_type": "code",
   "execution_count": 71,
   "id": "ebf87925",
   "metadata": {},
   "outputs": [
    {
     "data": {
      "text/plain": [
       "NamedUser(login=\"yigityalin\")"
      ]
     },
     "execution_count": 71,
     "metadata": {},
     "output_type": "execute_result"
    }
   ],
   "source": [
    "yy = github.get_user(\"yigityalin\")\n",
    "yy"
   ]
  },
  {
   "cell_type": "code",
   "execution_count": 72,
   "id": "f9502ace",
   "metadata": {},
   "outputs": [
    {
     "data": {
      "text/plain": [
       "'@chatterbugapp, @redwoodjs, @preston-werner-ventures '"
      ]
     },
     "execution_count": 72,
     "metadata": {},
     "output_type": "execute_result"
    }
   ],
   "source": [
    "nu.company"
   ]
  },
  {
   "cell_type": "code",
   "execution_count": 73,
   "id": "a7ed37d6",
   "metadata": {},
   "outputs": [
    {
     "data": {
      "text/plain": [
       "[]"
      ]
     },
     "execution_count": 73,
     "metadata": {},
     "output_type": "execute_result"
    }
   ],
   "source": [
    "list(nu.get_projects())"
   ]
  },
  {
   "cell_type": "code",
   "execution_count": 74,
   "id": "38e2cccf",
   "metadata": {},
   "outputs": [
    {
     "data": {
      "text/plain": [
       "'San Francisco'"
      ]
     },
     "execution_count": 74,
     "metadata": {},
     "output_type": "execute_result"
    }
   ],
   "source": [
    "nu.location"
   ]
  },
  {
   "cell_type": "code",
   "execution_count": 75,
   "id": "836387f8",
   "metadata": {},
   "outputs": [
    {
     "data": {
      "text/plain": [
       "[Repository(full_name=\"mojombo/30daysoflaptops.github.io\"),\n",
       " Repository(full_name=\"mojombo/asteroids\"),\n",
       " Repository(full_name=\"mojombo/benbalter.github.com\"),\n",
       " Repository(full_name=\"mojombo/bert\"),\n",
       " Repository(full_name=\"mojombo/bert.erl\"),\n",
       " Repository(full_name=\"mojombo/bertrpc\"),\n",
       " Repository(full_name=\"mojombo/bower\"),\n",
       " Repository(full_name=\"mojombo/chronic\"),\n",
       " Repository(full_name=\"mojombo/clippy\"),\n",
       " Repository(full_name=\"mojombo/conceptual_algorithms\"),\n",
       " Repository(full_name=\"mojombo/cubesixel\"),\n",
       " Repository(full_name=\"mojombo/docz-website\"),\n",
       " Repository(full_name=\"mojombo/egitd\"),\n",
       " Repository(full_name=\"mojombo/endo\"),\n",
       " Repository(full_name=\"mojombo/erlang_pipe\"),\n",
       " Repository(full_name=\"mojombo/erlectricity\"),\n",
       " Repository(full_name=\"mojombo/erlectricity-presentation\"),\n",
       " Repository(full_name=\"mojombo/erlenmeyer\"),\n",
       " Repository(full_name=\"mojombo/ernie\"),\n",
       " Repository(full_name=\"mojombo/eventmachine\"),\n",
       " Repository(full_name=\"mojombo/fakegem\"),\n",
       " Repository(full_name=\"mojombo/fixture-scenarios\"),\n",
       " Repository(full_name=\"mojombo/git\"),\n",
       " Repository(full_name=\"mojombo/git-bzr\"),\n",
       " Repository(full_name=\"mojombo/github-flavored-markdown\"),\n",
       " Repository(full_name=\"mojombo/github-gem\"),\n",
       " Repository(full_name=\"mojombo/glowstick\"),\n",
       " Repository(full_name=\"mojombo/god\"),\n",
       " Repository(full_name=\"mojombo/gollum-demo\"),\n",
       " Repository(full_name=\"mojombo/grit\"),\n",
       " Repository(full_name=\"mojombo/homebrew\"),\n",
       " Repository(full_name=\"mojombo/jamstack.org\"),\n",
       " Repository(full_name=\"mojombo/jquery\"),\n",
       " Repository(full_name=\"mojombo/learn-github\"),\n",
       " Repository(full_name=\"mojombo/linguist\"),\n",
       " Repository(full_name=\"mojombo/mastering-git-basics\"),\n",
       " Repository(full_name=\"mojombo/mojombo\"),\n",
       " Repository(full_name=\"mojombo/mojombo.github.com\"),\n",
       " Repository(full_name=\"mojombo/mojombo.github.io\"),\n",
       " Repository(full_name=\"mojombo/mustache.erl\"),\n",
       " Repository(full_name=\"mojombo/octobeer\"),\n",
       " Repository(full_name=\"mojombo/omniship\"),\n",
       " Repository(full_name=\"mojombo/osd-street-center-line\"),\n",
       " Repository(full_name=\"mojombo/otp\"),\n",
       " Repository(full_name=\"mojombo/play\"),\n",
       " Repository(full_name=\"mojombo/primer\"),\n",
       " Repository(full_name=\"mojombo/proxymachine\"),\n",
       " Repository(full_name=\"mojombo/pyberry\"),\n",
       " Repository(full_name=\"mojombo/rakegem\"),\n",
       " Repository(full_name=\"mojombo/rebar\"),\n",
       " Repository(full_name=\"mojombo/redcarpet\"),\n",
       " Repository(full_name=\"mojombo/rsese.github.com\"),\n",
       " Repository(full_name=\"mojombo/sample-rpc-server\"),\n",
       " Repository(full_name=\"mojombo/scoped\"),\n",
       " Repository(full_name=\"mojombo/sf-vegetarian-restaurants\"),\n",
       " Repository(full_name=\"mojombo/tomdoc\"),\n",
       " Repository(full_name=\"mojombo/toml-test\"),\n",
       " Repository(full_name=\"mojombo/toml.tmbundle\"),\n",
       " Repository(full_name=\"mojombo/tpw\"),\n",
       " Repository(full_name=\"mojombo/v8\"),\n",
       " Repository(full_name=\"mojombo/vanhelsing\"),\n",
       " Repository(full_name=\"mojombo/WorldAfterCapital\"),\n",
       " Repository(full_name=\"mojombo/yaws\")]"
      ]
     },
     "execution_count": 75,
     "metadata": {},
     "output_type": "execute_result"
    }
   ],
   "source": [
    "list(nu.get_repos())"
   ]
  },
  {
   "cell_type": "code",
   "execution_count": 80,
   "id": "34fad3d9",
   "metadata": {},
   "outputs": [
    {
     "data": {
      "text/plain": [
       "Repository(full_name=\"mojombo/chronic\")"
      ]
     },
     "execution_count": 80,
     "metadata": {},
     "output_type": "execute_result"
    }
   ],
   "source": [
    "repo = list(nu.get_repos())[7]\n",
    "repo"
   ]
  },
  {
   "cell_type": "code",
   "execution_count": 115,
   "id": "d0fb9a06",
   "metadata": {},
   "outputs": [
    {
     "data": {
      "text/plain": [
       "{'CHECK_AFTER_INIT_FLAG': False,\n",
       " 'add_to_collaborators': <bound method Repository.add_to_collaborators of Repository(full_name=\"mojombo/chronic\")>,\n",
       " 'allow_merge_commit': None,\n",
       " 'allow_rebase_merge': None,\n",
       " 'allow_squash_merge': None,\n",
       " 'archive_url': 'https://api.github.com/repos/mojombo/chronic/{archive_format}{/ref}',\n",
       " 'archived': False,\n",
       " 'assignees_url': 'https://api.github.com/repos/mojombo/chronic/assignees{/user}',\n",
       " 'blobs_url': 'https://api.github.com/repos/mojombo/chronic/git/blobs{/sha}',\n",
       " 'branches_url': 'https://api.github.com/repos/mojombo/chronic/branches{/branch}',\n",
       " 'clone_url': 'https://github.com/mojombo/chronic.git',\n",
       " 'collaborators_url': 'https://api.github.com/repos/mojombo/chronic/collaborators{/collaborator}',\n",
       " 'comments_url': 'https://api.github.com/repos/mojombo/chronic/comments{/number}',\n",
       " 'commits_url': 'https://api.github.com/repos/mojombo/chronic/commits{/sha}',\n",
       " 'compare': <bound method Repository.compare of Repository(full_name=\"mojombo/chronic\")>,\n",
       " 'compare_url': 'https://api.github.com/repos/mojombo/chronic/compare/{base}...{head}',\n",
       " 'contents_url': 'https://api.github.com/repos/mojombo/chronic/contents/{+path}',\n",
       " 'contributors_url': 'https://api.github.com/repos/mojombo/chronic/contributors',\n",
       " 'create_check_run': <bound method Repository.create_check_run of Repository(full_name=\"mojombo/chronic\")>,\n",
       " 'create_check_suite': <bound method Repository.create_check_suite of Repository(full_name=\"mojombo/chronic\")>,\n",
       " 'create_deployment': <bound method Repository.create_deployment of Repository(full_name=\"mojombo/chronic\")>,\n",
       " 'create_file': <bound method Repository.create_file of Repository(full_name=\"mojombo/chronic\")>,\n",
       " 'create_fork': <bound method Repository.create_fork of Repository(full_name=\"mojombo/chronic\")>,\n",
       " 'create_git_blob': <bound method Repository.create_git_blob of Repository(full_name=\"mojombo/chronic\")>,\n",
       " 'create_git_commit': <bound method Repository.create_git_commit of Repository(full_name=\"mojombo/chronic\")>,\n",
       " 'create_git_ref': <bound method Repository.create_git_ref of Repository(full_name=\"mojombo/chronic\")>,\n",
       " 'create_git_release': <bound method Repository.create_git_release of Repository(full_name=\"mojombo/chronic\")>,\n",
       " 'create_git_tag': <bound method Repository.create_git_tag of Repository(full_name=\"mojombo/chronic\")>,\n",
       " 'create_git_tag_and_release': <bound method Repository.create_git_tag_and_release of Repository(full_name=\"mojombo/chronic\")>,\n",
       " 'create_git_tree': <bound method Repository.create_git_tree of Repository(full_name=\"mojombo/chronic\")>,\n",
       " 'create_hook': <bound method Repository.create_hook of Repository(full_name=\"mojombo/chronic\")>,\n",
       " 'create_issue': <bound method Repository.create_issue of Repository(full_name=\"mojombo/chronic\")>,\n",
       " 'create_key': <bound method Repository.create_key of Repository(full_name=\"mojombo/chronic\")>,\n",
       " 'create_label': <bound method Repository.create_label of Repository(full_name=\"mojombo/chronic\")>,\n",
       " 'create_milestone': <bound method Repository.create_milestone of Repository(full_name=\"mojombo/chronic\")>,\n",
       " 'create_project': <bound method Repository.create_project of Repository(full_name=\"mojombo/chronic\")>,\n",
       " 'create_pull': <bound method Repository.create_pull of Repository(full_name=\"mojombo/chronic\")>,\n",
       " 'create_repository_dispatch': <bound method Repository.create_repository_dispatch of Repository(full_name=\"mojombo/chronic\")>,\n",
       " 'create_secret': <bound method Repository.create_secret of Repository(full_name=\"mojombo/chronic\")>,\n",
       " 'create_source_import': <bound method Repository.create_source_import of Repository(full_name=\"mojombo/chronic\")>,\n",
       " 'created_at': datetime.datetime(2008, 1, 29, 6, 48, 49),\n",
       " 'default_branch': 'master',\n",
       " 'delete': <bound method Repository.delete of Repository(full_name=\"mojombo/chronic\")>,\n",
       " 'delete_branch_on_merge': None,\n",
       " 'delete_file': <bound method Repository.delete_file of Repository(full_name=\"mojombo/chronic\")>,\n",
       " 'delete_secret': <bound method Repository.delete_secret of Repository(full_name=\"mojombo/chronic\")>,\n",
       " 'deployments_url': 'https://api.github.com/repos/mojombo/chronic/deployments',\n",
       " 'description': 'Chronic is a pure Ruby natural language date parser.',\n",
       " 'disable_automated_security_fixes': <bound method Repository.disable_automated_security_fixes of Repository(full_name=\"mojombo/chronic\")>,\n",
       " 'disable_vulnerability_alert': <bound method Repository.disable_vulnerability_alert of Repository(full_name=\"mojombo/chronic\")>,\n",
       " 'downloads_url': 'https://api.github.com/repos/mojombo/chronic/downloads',\n",
       " 'edit': <bound method Repository.edit of Repository(full_name=\"mojombo/chronic\")>,\n",
       " 'enable_automated_security_fixes': <bound method Repository.enable_automated_security_fixes of Repository(full_name=\"mojombo/chronic\")>,\n",
       " 'enable_vulnerability_alert': <bound method Repository.enable_vulnerability_alert of Repository(full_name=\"mojombo/chronic\")>,\n",
       " 'etag': 'W/\"6f388e2278a54d139ed85defe2888928bb032f7c9e086c7eccab7b42090ee594\"',\n",
       " 'events_url': 'https://api.github.com/repos/mojombo/chronic/events',\n",
       " 'fork': False,\n",
       " 'forks': 465,\n",
       " 'forks_count': 465,\n",
       " 'forks_url': 'https://api.github.com/repos/mojombo/chronic/forks',\n",
       " 'full_name': 'mojombo/chronic',\n",
       " 'get__repr__': <bound method GithubObject.get__repr__ of Repository(full_name=\"mojombo/chronic\")>,\n",
       " 'get_archive_link': <bound method Repository.get_archive_link of Repository(full_name=\"mojombo/chronic\")>,\n",
       " 'get_assignees': <bound method Repository.get_assignees of Repository(full_name=\"mojombo/chronic\")>,\n",
       " 'get_branch': <bound method Repository.get_branch of Repository(full_name=\"mojombo/chronic\")>,\n",
       " 'get_branches': <bound method Repository.get_branches of Repository(full_name=\"mojombo/chronic\")>,\n",
       " 'get_check_run': <bound method Repository.get_check_run of Repository(full_name=\"mojombo/chronic\")>,\n",
       " 'get_check_suite': <bound method Repository.get_check_suite of Repository(full_name=\"mojombo/chronic\")>,\n",
       " 'get_clones_traffic': <bound method Repository.get_clones_traffic of Repository(full_name=\"mojombo/chronic\")>,\n",
       " 'get_collaborator_permission': <bound method Repository.get_collaborator_permission of Repository(full_name=\"mojombo/chronic\")>,\n",
       " 'get_collaborators': <bound method Repository.get_collaborators of Repository(full_name=\"mojombo/chronic\")>,\n",
       " 'get_comment': <bound method Repository.get_comment of Repository(full_name=\"mojombo/chronic\")>,\n",
       " 'get_comments': <bound method Repository.get_comments of Repository(full_name=\"mojombo/chronic\")>,\n",
       " 'get_commit': <bound method Repository.get_commit of Repository(full_name=\"mojombo/chronic\")>,\n",
       " 'get_commits': <bound method Repository.get_commits of Repository(full_name=\"mojombo/chronic\")>,\n",
       " 'get_contents': <bound method Repository.get_contents of Repository(full_name=\"mojombo/chronic\")>,\n",
       " 'get_contributors': <bound method Repository.get_contributors of Repository(full_name=\"mojombo/chronic\")>,\n",
       " 'get_deployment': <bound method Repository.get_deployment of Repository(full_name=\"mojombo/chronic\")>,\n",
       " 'get_deployments': <bound method Repository.get_deployments of Repository(full_name=\"mojombo/chronic\")>,\n",
       " 'get_dir_contents': <_BoundAdapterWrapper at 0x7f7abe980dc0 for method at 0x7f7abfc20e40>,\n",
       " 'get_download': <bound method Repository.get_download of Repository(full_name=\"mojombo/chronic\")>,\n",
       " 'get_downloads': <bound method Repository.get_downloads of Repository(full_name=\"mojombo/chronic\")>,\n",
       " 'get_events': <bound method Repository.get_events of Repository(full_name=\"mojombo/chronic\")>,\n",
       " 'get_forks': <bound method Repository.get_forks of Repository(full_name=\"mojombo/chronic\")>,\n",
       " 'get_git_blob': <bound method Repository.get_git_blob of Repository(full_name=\"mojombo/chronic\")>,\n",
       " 'get_git_commit': <bound method Repository.get_git_commit of Repository(full_name=\"mojombo/chronic\")>,\n",
       " 'get_git_matching_refs': <bound method Repository.get_git_matching_refs of Repository(full_name=\"mojombo/chronic\")>,\n",
       " 'get_git_ref': <bound method Repository.get_git_ref of Repository(full_name=\"mojombo/chronic\")>,\n",
       " 'get_git_refs': <bound method Repository.get_git_refs of Repository(full_name=\"mojombo/chronic\")>,\n",
       " 'get_git_tag': <bound method Repository.get_git_tag of Repository(full_name=\"mojombo/chronic\")>,\n",
       " 'get_git_tree': <bound method Repository.get_git_tree of Repository(full_name=\"mojombo/chronic\")>,\n",
       " 'get_hook': <bound method Repository.get_hook of Repository(full_name=\"mojombo/chronic\")>,\n",
       " 'get_hooks': <bound method Repository.get_hooks of Repository(full_name=\"mojombo/chronic\")>,\n",
       " 'get_issue': <bound method Repository.get_issue of Repository(full_name=\"mojombo/chronic\")>,\n",
       " 'get_issues': <bound method Repository.get_issues of Repository(full_name=\"mojombo/chronic\")>,\n",
       " 'get_issues_comments': <bound method Repository.get_issues_comments of Repository(full_name=\"mojombo/chronic\")>,\n",
       " 'get_issues_event': <bound method Repository.get_issues_event of Repository(full_name=\"mojombo/chronic\")>,\n",
       " 'get_issues_events': <bound method Repository.get_issues_events of Repository(full_name=\"mojombo/chronic\")>,\n",
       " 'get_key': <bound method Repository.get_key of Repository(full_name=\"mojombo/chronic\")>,\n",
       " 'get_keys': <bound method Repository.get_keys of Repository(full_name=\"mojombo/chronic\")>,\n",
       " 'get_label': <bound method Repository.get_label of Repository(full_name=\"mojombo/chronic\")>,\n",
       " 'get_labels': <bound method Repository.get_labels of Repository(full_name=\"mojombo/chronic\")>,\n",
       " 'get_languages': <bound method Repository.get_languages of Repository(full_name=\"mojombo/chronic\")>,\n",
       " 'get_latest_release': <bound method Repository.get_latest_release of Repository(full_name=\"mojombo/chronic\")>,\n",
       " 'get_license': <bound method Repository.get_license of Repository(full_name=\"mojombo/chronic\")>,\n",
       " 'get_milestone': <bound method Repository.get_milestone of Repository(full_name=\"mojombo/chronic\")>,\n",
       " 'get_milestones': <bound method Repository.get_milestones of Repository(full_name=\"mojombo/chronic\")>,\n",
       " 'get_network_events': <bound method Repository.get_network_events of Repository(full_name=\"mojombo/chronic\")>,\n",
       " 'get_notifications': <bound method Repository.get_notifications of Repository(full_name=\"mojombo/chronic\")>,\n",
       " 'get_pending_invitations': <bound method Repository.get_pending_invitations of Repository(full_name=\"mojombo/chronic\")>,\n",
       " 'get_projects': <bound method Repository.get_projects of Repository(full_name=\"mojombo/chronic\")>,\n",
       " 'get_public_key': <bound method Repository.get_public_key of Repository(full_name=\"mojombo/chronic\")>,\n",
       " 'get_pull': <bound method Repository.get_pull of Repository(full_name=\"mojombo/chronic\")>,\n",
       " 'get_pulls': <bound method Repository.get_pulls of Repository(full_name=\"mojombo/chronic\")>,\n",
       " 'get_pulls_comments': <bound method Repository.get_pulls_comments of Repository(full_name=\"mojombo/chronic\")>,\n",
       " 'get_pulls_review_comments': <bound method Repository.get_pulls_review_comments of Repository(full_name=\"mojombo/chronic\")>,\n",
       " 'get_readme': <bound method Repository.get_readme of Repository(full_name=\"mojombo/chronic\")>,\n",
       " 'get_release': <bound method Repository.get_release of Repository(full_name=\"mojombo/chronic\")>,\n",
       " 'get_release_asset': <bound method Repository.get_release_asset of Repository(full_name=\"mojombo/chronic\")>,\n",
       " 'get_releases': <bound method Repository.get_releases of Repository(full_name=\"mojombo/chronic\")>,\n",
       " 'get_self_hosted_runner': <bound method Repository.get_self_hosted_runner of Repository(full_name=\"mojombo/chronic\")>,\n",
       " 'get_self_hosted_runners': <bound method Repository.get_self_hosted_runners of Repository(full_name=\"mojombo/chronic\")>,\n",
       " 'get_source_import': <bound method Repository.get_source_import of Repository(full_name=\"mojombo/chronic\")>,\n",
       " 'get_stargazers': <bound method Repository.get_stargazers of Repository(full_name=\"mojombo/chronic\")>,\n",
       " 'get_stargazers_with_dates': <bound method Repository.get_stargazers_with_dates of Repository(full_name=\"mojombo/chronic\")>,\n",
       " 'get_stats_code_frequency': <bound method Repository.get_stats_code_frequency of Repository(full_name=\"mojombo/chronic\")>,\n",
       " 'get_stats_commit_activity': <bound method Repository.get_stats_commit_activity of Repository(full_name=\"mojombo/chronic\")>,\n",
       " 'get_stats_contributors': <bound method Repository.get_stats_contributors of Repository(full_name=\"mojombo/chronic\")>,\n",
       " 'get_stats_participation': <bound method Repository.get_stats_participation of Repository(full_name=\"mojombo/chronic\")>,\n",
       " 'get_stats_punch_card': <bound method Repository.get_stats_punch_card of Repository(full_name=\"mojombo/chronic\")>,\n",
       " 'get_subscribers': <bound method Repository.get_subscribers of Repository(full_name=\"mojombo/chronic\")>,\n",
       " 'get_tags': <bound method Repository.get_tags of Repository(full_name=\"mojombo/chronic\")>,\n",
       " 'get_teams': <bound method Repository.get_teams of Repository(full_name=\"mojombo/chronic\")>,\n",
       " 'get_top_paths': <bound method Repository.get_top_paths of Repository(full_name=\"mojombo/chronic\")>,\n",
       " 'get_top_referrers': <bound method Repository.get_top_referrers of Repository(full_name=\"mojombo/chronic\")>,\n",
       " 'get_topics': <bound method Repository.get_topics of Repository(full_name=\"mojombo/chronic\")>,\n",
       " 'get_views_traffic': <bound method Repository.get_views_traffic of Repository(full_name=\"mojombo/chronic\")>,\n",
       " 'get_vulnerability_alert': <bound method Repository.get_vulnerability_alert of Repository(full_name=\"mojombo/chronic\")>,\n",
       " 'get_watchers': <bound method Repository.get_watchers of Repository(full_name=\"mojombo/chronic\")>,\n",
       " 'get_workflow': <bound method Repository.get_workflow of Repository(full_name=\"mojombo/chronic\")>,\n",
       " 'get_workflow_run': <bound method Repository.get_workflow_run of Repository(full_name=\"mojombo/chronic\")>,\n",
       " 'get_workflow_runs': <bound method Repository.get_workflow_runs of Repository(full_name=\"mojombo/chronic\")>,\n",
       " 'get_workflows': <bound method Repository.get_workflows of Repository(full_name=\"mojombo/chronic\")>,\n",
       " 'git_commits_url': 'https://api.github.com/repos/mojombo/chronic/git/commits{/sha}',\n",
       " 'git_refs_url': 'https://api.github.com/repos/mojombo/chronic/git/refs{/sha}',\n",
       " 'git_tags_url': 'https://api.github.com/repos/mojombo/chronic/git/tags{/sha}',\n",
       " 'git_url': 'git://github.com/mojombo/chronic.git',\n",
       " 'has_downloads': True,\n",
       " 'has_in_assignees': <bound method Repository.has_in_assignees of Repository(full_name=\"mojombo/chronic\")>,\n",
       " 'has_in_collaborators': <bound method Repository.has_in_collaborators of Repository(full_name=\"mojombo/chronic\")>,\n",
       " 'has_issues': True,\n",
       " 'has_pages': False,\n",
       " 'has_projects': True,\n",
       " 'has_wiki': True,\n",
       " 'homepage': 'http://injekt.github.com/chronic',\n",
       " 'hooks_url': 'https://api.github.com/repos/mojombo/chronic/hooks',\n",
       " 'html_url': 'https://github.com/mojombo/chronic',\n",
       " 'id': 144,\n",
       " 'issue_comment_url': 'https://api.github.com/repos/mojombo/chronic/issues/comments{/number}',\n",
       " 'issue_events_url': 'https://api.github.com/repos/mojombo/chronic/issues/events{/number}',\n",
       " 'issues_url': 'https://api.github.com/repos/mojombo/chronic/issues{/number}',\n",
       " 'keys_url': 'https://api.github.com/repos/mojombo/chronic/keys{/key_id}',\n",
       " 'labels_url': 'https://api.github.com/repos/mojombo/chronic/labels{/name}',\n",
       " 'language': 'Ruby',\n",
       " 'languages_url': 'https://api.github.com/repos/mojombo/chronic/languages',\n",
       " 'last_modified': 'Sat, 12 Mar 2022 06:31:49 GMT',\n",
       " 'legacy_search_issues': <bound method Repository.legacy_search_issues of Repository(full_name=\"mojombo/chronic\")>,\n",
       " 'mark_notifications_as_read': <bound method Repository.mark_notifications_as_read of Repository(full_name=\"mojombo/chronic\")>,\n",
       " 'master_branch': None,\n",
       " 'merge': <bound method Repository.merge of Repository(full_name=\"mojombo/chronic\")>,\n",
       " 'merges_url': 'https://api.github.com/repos/mojombo/chronic/merges',\n",
       " 'milestones_url': 'https://api.github.com/repos/mojombo/chronic/milestones{/number}',\n",
       " 'mirror_url': None,\n",
       " 'name': 'chronic',\n",
       " 'network_count': 465,\n",
       " 'notifications_url': 'https://api.github.com/repos/mojombo/chronic/notifications{?since,all,participating}',\n",
       " 'open_issues': 147,\n",
       " 'open_issues_count': 147,\n",
       " 'organization': None,\n",
       " 'owner': NamedUser(login=\"mojombo\"),\n",
       " 'parent': None,\n",
       " 'permissions': Permissions(triage=False, push=False, pull=True, maintain=False, admin=False),\n",
       " 'private': False,\n",
       " 'pulls_url': 'https://api.github.com/repos/mojombo/chronic/pulls{/number}',\n",
       " 'pushed_at': datetime.datetime(2022, 2, 3, 1, 5, 46),\n",
       " 'raw_data': {'id': 144,\n",
       "  'node_id': 'MDEwOlJlcG9zaXRvcnkxNDQ=',\n",
       "  'name': 'chronic',\n",
       "  'full_name': 'mojombo/chronic',\n",
       "  'private': False,\n",
       "  'owner': {'login': 'mojombo',\n",
       "   'id': 1,\n",
       "   'node_id': 'MDQ6VXNlcjE=',\n",
       "   'avatar_url': 'https://avatars.githubusercontent.com/u/1?v=4',\n",
       "   'gravatar_id': '',\n",
       "   'url': 'https://api.github.com/users/mojombo',\n",
       "   'html_url': 'https://github.com/mojombo',\n",
       "   'followers_url': 'https://api.github.com/users/mojombo/followers',\n",
       "   'following_url': 'https://api.github.com/users/mojombo/following{/other_user}',\n",
       "   'gists_url': 'https://api.github.com/users/mojombo/gists{/gist_id}',\n",
       "   'starred_url': 'https://api.github.com/users/mojombo/starred{/owner}{/repo}',\n",
       "   'subscriptions_url': 'https://api.github.com/users/mojombo/subscriptions',\n",
       "   'organizations_url': 'https://api.github.com/users/mojombo/orgs',\n",
       "   'repos_url': 'https://api.github.com/users/mojombo/repos',\n",
       "   'events_url': 'https://api.github.com/users/mojombo/events{/privacy}',\n",
       "   'received_events_url': 'https://api.github.com/users/mojombo/received_events',\n",
       "   'type': 'User',\n",
       "   'site_admin': False},\n",
       "  'html_url': 'https://github.com/mojombo/chronic',\n",
       "  'description': 'Chronic is a pure Ruby natural language date parser.',\n",
       "  'fork': False,\n",
       "  'url': 'https://api.github.com/repos/mojombo/chronic',\n",
       "  'forks_url': 'https://api.github.com/repos/mojombo/chronic/forks',\n",
       "  'keys_url': 'https://api.github.com/repos/mojombo/chronic/keys{/key_id}',\n",
       "  'collaborators_url': 'https://api.github.com/repos/mojombo/chronic/collaborators{/collaborator}',\n",
       "  'teams_url': 'https://api.github.com/repos/mojombo/chronic/teams',\n",
       "  'hooks_url': 'https://api.github.com/repos/mojombo/chronic/hooks',\n",
       "  'issue_events_url': 'https://api.github.com/repos/mojombo/chronic/issues/events{/number}',\n",
       "  'events_url': 'https://api.github.com/repos/mojombo/chronic/events',\n",
       "  'assignees_url': 'https://api.github.com/repos/mojombo/chronic/assignees{/user}',\n",
       "  'branches_url': 'https://api.github.com/repos/mojombo/chronic/branches{/branch}',\n",
       "  'tags_url': 'https://api.github.com/repos/mojombo/chronic/tags',\n",
       "  'blobs_url': 'https://api.github.com/repos/mojombo/chronic/git/blobs{/sha}',\n",
       "  'git_tags_url': 'https://api.github.com/repos/mojombo/chronic/git/tags{/sha}',\n",
       "  'git_refs_url': 'https://api.github.com/repos/mojombo/chronic/git/refs{/sha}',\n",
       "  'trees_url': 'https://api.github.com/repos/mojombo/chronic/git/trees{/sha}',\n",
       "  'statuses_url': 'https://api.github.com/repos/mojombo/chronic/statuses/{sha}',\n",
       "  'languages_url': 'https://api.github.com/repos/mojombo/chronic/languages',\n",
       "  'stargazers_url': 'https://api.github.com/repos/mojombo/chronic/stargazers',\n",
       "  'contributors_url': 'https://api.github.com/repos/mojombo/chronic/contributors',\n",
       "  'subscribers_url': 'https://api.github.com/repos/mojombo/chronic/subscribers',\n",
       "  'subscription_url': 'https://api.github.com/repos/mojombo/chronic/subscription',\n",
       "  'commits_url': 'https://api.github.com/repos/mojombo/chronic/commits{/sha}',\n",
       "  'git_commits_url': 'https://api.github.com/repos/mojombo/chronic/git/commits{/sha}',\n",
       "  'comments_url': 'https://api.github.com/repos/mojombo/chronic/comments{/number}',\n",
       "  'issue_comment_url': 'https://api.github.com/repos/mojombo/chronic/issues/comments{/number}',\n",
       "  'contents_url': 'https://api.github.com/repos/mojombo/chronic/contents/{+path}',\n",
       "  'compare_url': 'https://api.github.com/repos/mojombo/chronic/compare/{base}...{head}',\n",
       "  'merges_url': 'https://api.github.com/repos/mojombo/chronic/merges',\n",
       "  'archive_url': 'https://api.github.com/repos/mojombo/chronic/{archive_format}{/ref}',\n",
       "  'downloads_url': 'https://api.github.com/repos/mojombo/chronic/downloads',\n",
       "  'issues_url': 'https://api.github.com/repos/mojombo/chronic/issues{/number}',\n",
       "  'pulls_url': 'https://api.github.com/repos/mojombo/chronic/pulls{/number}',\n",
       "  'milestones_url': 'https://api.github.com/repos/mojombo/chronic/milestones{/number}',\n",
       "  'notifications_url': 'https://api.github.com/repos/mojombo/chronic/notifications{?since,all,participating}',\n",
       "  'labels_url': 'https://api.github.com/repos/mojombo/chronic/labels{/name}',\n",
       "  'releases_url': 'https://api.github.com/repos/mojombo/chronic/releases{/id}',\n",
       "  'deployments_url': 'https://api.github.com/repos/mojombo/chronic/deployments',\n",
       "  'created_at': '2008-01-29T06:48:49Z',\n",
       "  'updated_at': '2022-03-12T06:31:49Z',\n",
       "  'pushed_at': '2022-02-03T01:05:46Z',\n",
       "  'git_url': 'git://github.com/mojombo/chronic.git',\n",
       "  'ssh_url': 'git@github.com:mojombo/chronic.git',\n",
       "  'clone_url': 'https://github.com/mojombo/chronic.git',\n",
       "  'svn_url': 'https://github.com/mojombo/chronic',\n",
       "  'homepage': 'http://injekt.github.com/chronic',\n",
       "  'size': 681,\n",
       "  'stargazers_count': 3125,\n",
       "  'watchers_count': 3125,\n",
       "  'language': 'Ruby',\n",
       "  'has_issues': True,\n",
       "  'has_projects': True,\n",
       "  'has_downloads': True,\n",
       "  'has_wiki': True,\n",
       "  'has_pages': False,\n",
       "  'forks_count': 465,\n",
       "  'mirror_url': None,\n",
       "  'archived': False,\n",
       "  'disabled': False,\n",
       "  'open_issues_count': 147,\n",
       "  'license': {'key': 'mit',\n",
       "   'name': 'MIT License',\n",
       "   'spdx_id': 'MIT',\n",
       "   'url': 'https://api.github.com/licenses/mit',\n",
       "   'node_id': 'MDc6TGljZW5zZTEz'},\n",
       "  'allow_forking': True,\n",
       "  'is_template': False,\n",
       "  'topics': [],\n",
       "  'visibility': 'public',\n",
       "  'forks': 465,\n",
       "  'open_issues': 147,\n",
       "  'watchers': 3125,\n",
       "  'default_branch': 'master',\n",
       "  'permissions': {'admin': False,\n",
       "   'maintain': False,\n",
       "   'push': False,\n",
       "   'triage': False,\n",
       "   'pull': True},\n",
       "  'temp_clone_token': '',\n",
       "  'network_count': 465,\n",
       "  'subscribers_count': 75},\n",
       " 'raw_headers': {'server': 'GitHub.com',\n",
       "  'date': 'Sun, 13 Mar 2022 19:12:24 GMT',\n",
       "  'content-type': 'application/json; charset=utf-8',\n",
       "  'transfer-encoding': 'chunked',\n",
       "  'cache-control': 'private, max-age=60, s-maxage=60',\n",
       "  'vary': 'Accept, Authorization, Cookie, X-GitHub-OTP, Accept-Encoding, Accept, X-Requested-With',\n",
       "  'etag': 'W/\"6f388e2278a54d139ed85defe2888928bb032f7c9e086c7eccab7b42090ee594\"',\n",
       "  'last-modified': 'Sat, 12 Mar 2022 06:31:49 GMT',\n",
       "  'x-oauth-scopes': 'notifications, read:discussion, read:enterprise, read:gpg_key, read:org, read:packages, read:public_key, read:repo_hook, read:user, user:email',\n",
       "  'x-accepted-oauth-scopes': 'repo',\n",
       "  'x-github-media-type': 'github.v3; format=json',\n",
       "  'x-ratelimit-limit': '5000',\n",
       "  'x-ratelimit-remaining': '4990',\n",
       "  'x-ratelimit-reset': '1647202333',\n",
       "  'x-ratelimit-used': '10',\n",
       "  'x-ratelimit-resource': 'core',\n",
       "  'access-control-expose-headers': 'ETag, Link, Location, Retry-After, X-GitHub-OTP, X-RateLimit-Limit, X-RateLimit-Remaining, X-RateLimit-Used, X-RateLimit-Resource, X-RateLimit-Reset, X-OAuth-Scopes, X-Accepted-OAuth-Scopes, X-Poll-Interval, X-GitHub-Media-Type, X-GitHub-SSO, X-GitHub-Request-Id, Deprecation, Sunset',\n",
       "  'access-control-allow-origin': '*',\n",
       "  'strict-transport-security': 'max-age=31536000; includeSubdomains; preload',\n",
       "  'x-frame-options': 'deny',\n",
       "  'x-content-type-options': 'nosniff',\n",
       "  'x-xss-protection': '0',\n",
       "  'referrer-policy': 'origin-when-cross-origin, strict-origin-when-cross-origin',\n",
       "  'content-security-policy': \"default-src 'none'\",\n",
       "  'content-encoding': 'gzip',\n",
       "  'x-github-request-id': 'D1AB:5018:B3422B3:B6391C2:622E4218'},\n",
       " 'releases_url': 'https://api.github.com/repos/mojombo/chronic/releases{/id}',\n",
       " 'remove_from_collaborators': <bound method Repository.remove_from_collaborators of Repository(full_name=\"mojombo/chronic\")>,\n",
       " 'remove_invitation': <bound method Repository.remove_invitation of Repository(full_name=\"mojombo/chronic\")>,\n",
       " 'remove_self_hosted_runner': <bound method Repository.remove_self_hosted_runner of Repository(full_name=\"mojombo/chronic\")>,\n",
       " 'replace_topics': <bound method Repository.replace_topics of Repository(full_name=\"mojombo/chronic\")>,\n",
       " 'setCheckAfterInitFlag': <bound method GithubObject.setCheckAfterInitFlag of <class 'github.Repository.Repository'>>,\n",
       " 'size': 681,\n",
       " 'source': None,\n",
       " 'ssh_url': 'git@github.com:mojombo/chronic.git',\n",
       " 'stargazers_count': 3125,\n",
       " 'stargazers_url': 'https://api.github.com/repos/mojombo/chronic/stargazers',\n",
       " 'statuses_url': 'https://api.github.com/repos/mojombo/chronic/statuses/{sha}',\n",
       " 'subscribe_to_hub': <bound method Repository.subscribe_to_hub of Repository(full_name=\"mojombo/chronic\")>,\n",
       " 'subscribers_count': 75,\n",
       " 'subscribers_url': 'https://api.github.com/repos/mojombo/chronic/subscribers',\n",
       " 'subscription_url': 'https://api.github.com/repos/mojombo/chronic/subscription',\n",
       " 'svn_url': 'https://github.com/mojombo/chronic',\n",
       " 'tags_url': 'https://api.github.com/repos/mojombo/chronic/tags',\n",
       " 'teams_url': 'https://api.github.com/repos/mojombo/chronic/teams',\n",
       " 'trees_url': 'https://api.github.com/repos/mojombo/chronic/git/trees{/sha}',\n",
       " 'unsubscribe_from_hub': <bound method Repository.unsubscribe_from_hub of Repository(full_name=\"mojombo/chronic\")>,\n",
       " 'update': <bound method CompletableGithubObject.update of Repository(full_name=\"mojombo/chronic\")>,\n",
       " 'update_check_suites_preferences': <bound method Repository.update_check_suites_preferences of Repository(full_name=\"mojombo/chronic\")>,\n",
       " 'update_file': <bound method Repository.update_file of Repository(full_name=\"mojombo/chronic\")>,\n",
       " 'updated_at': datetime.datetime(2022, 3, 12, 6, 31, 49),\n",
       " 'url': 'https://api.github.com/repos/mojombo/chronic',\n",
       " 'watchers': 3125,\n",
       " 'watchers_count': 3125}"
      ]
     },
     "execution_count": 115,
     "metadata": {},
     "output_type": "execute_result"
    }
   ],
   "source": [
    "{\n",
    "    attr: getattr(repo, attr)\n",
    "    for attr in [x for x in dir(repo) if not x.startswith(\"_\")]\n",
    "}"
   ]
  },
  {
   "cell_type": "code",
   "execution_count": 108,
   "id": "b11b0f37",
   "metadata": {},
   "outputs": [
    {
     "data": {
      "text/plain": [
       "'MIT License'"
      ]
     },
     "execution_count": 108,
     "metadata": {},
     "output_type": "execute_result"
    }
   ],
   "source": [
    "repo.get_license().license.name"
   ]
  },
  {
   "cell_type": "code",
   "execution_count": 113,
   "id": "659439aa",
   "metadata": {},
   "outputs": [
    {
     "name": "stdout",
     "output_type": "stream",
     "text": [
      "Chronic\n",
      "=======\n",
      "\n",
      "Chronic is a natural language date/time parser written in pure Ruby. See below\n",
      "for the wide variety of formats Chronic will parse.\n",
      "\n",
      "## Installation\n",
      "\n",
      "```\n",
      "$ gem install chronic\n",
      "```\n",
      "\n",
      "## Usage\n",
      "\n",
      "```ruby\n",
      "require 'chronic'\n",
      "\n",
      "Time.now   #=> Sun Aug 27 23:18:25 PDT 2006\n",
      "\n",
      "Chronic.parse('tomorrow')\n",
      "  #=> Mon Aug 28 12:00:00 PDT 2006\n",
      "\n",
      "Chronic.parse('monday', :context => :past)\n",
      "  #=> Mon Aug 21 12:00:00 PDT 2006\n",
      "\n",
      "Chronic.parse('this tuesday 5:00')\n",
      "  #=> Tue Aug 29 17:00:00 PDT 2006\n",
      "\n",
      "Chronic.parse('this tuesday 5:00', :ambiguous_time_range => :none)\n",
      "  #=> Tue Aug 29 05:00:00 PDT 2006\n",
      "\n",
      "Chronic.parse('may 27th', :now => Time.local(2000, 1, 1))\n",
      "  #=> Sat May 27 12:00:00 PDT 2000\n",
      "\n",
      "Chronic.parse('may 27th', :guess => false)\n",
      "  #=> Sun May 27 00:00:00 PDT 2007..Mon May 28 00:00:00 PDT 2007\n",
      "\n",
      "Chronic.parse('6/4/2012', :endian_precedence => :little)\n",
      "  #=> Fri Apr 06 00:00:00 PDT 2012\n",
      "\n",
      "Chronic.parse('INVALID DATE')\n",
      "  #=> nil\n",
      "```\n",
      "\n",
      "If the parser can find a date or time, either a Time or Chronic::Span\n",
      "will be returned (depending on the value of `:guess`). If no\n",
      "date or time can be found, `nil` will be returned.\n",
      "\n",
      "See `Chronic.parse` for detailed usage instructions.\n",
      "\n",
      "## Examples\n",
      "\n",
      "Chronic can parse a huge variety of date and time formats. Following is a\n",
      "small sample of strings that will be properly parsed. Parsing is case\n",
      "insensitive and will handle common abbreviations and misspellings.\n",
      "\n",
      "#### Simple\n",
      "\n",
      "* thursday\n",
      "* november\n",
      "* summer\n",
      "* friday 13:00\n",
      "* mon 2:35\n",
      "* 4pm\n",
      "* 10 to 8\n",
      "* 10 past 2\n",
      "* half past 2\n",
      "* 6 in the morning\n",
      "* friday 1pm\n",
      "* sat 7 in the evening\n",
      "* yesterday\n",
      "* today\n",
      "* tomorrow\n",
      "* last week\n",
      "* next week\n",
      "* this tuesday\n",
      "* next month\n",
      "* last winter\n",
      "* this morning\n",
      "* last night\n",
      "* this second\n",
      "* yesterday at 4:00\n",
      "* last friday at 20:00\n",
      "* last week tuesday\n",
      "* tomorrow at 6:45pm\n",
      "* afternoon yesterday\n",
      "* thursday last week\n",
      "\n",
      "#### Complex\n",
      "\n",
      "* 3 years ago\n",
      "* a year ago\n",
      "* 5 months before now\n",
      "* 7 hours ago\n",
      "* 7 days from now\n",
      "* 1 week hence\n",
      "* in 3 hours\n",
      "* 1 year ago tomorrow\n",
      "* 3 months ago saturday at 5:00 pm\n",
      "* 7 hours before tomorrow at noon\n",
      "* 3rd wednesday in november\n",
      "* 3rd month next year\n",
      "* 3rd thursday this september\n",
      "* 4th day last week\n",
      "* fourteenth of june 2010 at eleven o'clock in the evening\n",
      "* may seventh '97 at three in the morning\n",
      "\n",
      "#### Specific Dates\n",
      "\n",
      "* January 5\n",
      "* 22nd of june\n",
      "* 5th may 2017\n",
      "* February twenty first\n",
      "* dec 25\n",
      "* may 27th\n",
      "* October 2006\n",
      "* oct 06\n",
      "* jan 3 2010\n",
      "* february 14, 2004\n",
      "* february 14th, 2004\n",
      "* 3 jan 2000\n",
      "* 17 april 85\n",
      "* 5/27/1979\n",
      "* 27/5/1979\n",
      "* 05/06\n",
      "* 1979-05-27\n",
      "* Friday\n",
      "* 5\n",
      "* 4:00\n",
      "* 17:00\n",
      "* 0800\n",
      "\n",
      "#### Specific Times (many of the above with an added time)\n",
      "\n",
      "* January 5 at 7pm\n",
      "* 22nd of june at 8am\n",
      "* 1979-05-27 05:00:00\n",
      "* 03/01/2012 07:25:09.234567\n",
      "* 2013-08-01T19:30:00.345-07:00\n",
      "* 2013-08-01T19:30:00.34-07:00\n",
      "* etc\n",
      "\n",
      "\n",
      "## Time Zones\n",
      "\n",
      "Chronic allows you to set which Time class to use when constructing times. By\n",
      "default, the built in Ruby time class creates times in your system's local\n",
      "time zone. You can set this to something like ActiveSupport's\n",
      "[TimeZone](http://api.rubyonrails.org/classes/ActiveSupport/TimeZone.html)\n",
      "class to get full time zone support.\n",
      "\n",
      "```\n",
      ">> Time.zone = \"UTC\"\n",
      ">> Chronic.time_class = Time.zone\n",
      ">> Chronic.parse(\"June 15 2006 at 5:45 AM\")\n",
      "=> Thu, 15 Jun 2006 05:45:00 UTC +00:00\n",
      "```\n",
      "\n",
      "## Limitations\n",
      "\n",
      "Chronic uses Ruby's built in Time class for all time storage and computation.\n",
      "Because of this, only times that the Time class can handle will be properly\n",
      "parsed. Parsing for times outside of this range will simply return `nil`.\n",
      "Support for a wider range of times is planned for a future release.\n",
      "\n",
      "\n",
      "## Contribute\n",
      "\n",
      "If you'd like to hack on Chronic, start by forking the repo on GitHub:\n",
      "\n",
      "https://github.com/mojombo/chronic\n",
      "\n",
      "The best way to get your changes merged back into core is as follows:\n",
      "\n",
      "1. Clone down your fork\n",
      "1. Create a thoughtfully named topic branch to contain your change\n",
      "1. Install the development dependencies by running `bundle install`\n",
      "1. Hack away\n",
      "1. Add tests and make sure everything still passes by running `bundle exec rake`\n",
      "1. Ensure your tests pass in multiple timezones. ie `TZ=utc bundle exec rake` `TZ=BST bundle exec rake`\n",
      "1. If you are adding new functionality, document it in the README\n",
      "1. Do not change the version number, we will do that on our end\n",
      "1. If necessary, rebase your commits into logical chunks, without errors\n",
      "1. Push the branch up to GitHub\n",
      "1. Send a pull request for your branch\n",
      "\n"
     ]
    }
   ],
   "source": [
    "print(repo.get_readme().decoded_content.decode(\"utf-8\"))"
   ]
  },
  {
   "cell_type": "code",
   "execution_count": 116,
   "id": "1fddf79c",
   "metadata": {},
   "outputs": [
    {
     "data": {
      "text/plain": [
       "NamedUser(login=\"yigityalin\")"
      ]
     },
     "execution_count": 116,
     "metadata": {},
     "output_type": "execute_result"
    }
   ],
   "source": [
    "github.get_user(\"yigityalin\")"
   ]
  },
  {
   "cell_type": "code",
   "execution_count": 131,
   "id": "b006d10a",
   "metadata": {},
   "outputs": [
    {
     "data": {
      "text/plain": [
       "[NamedUser(login=\"Yigityakut\"),\n",
       " NamedUser(login=\"yigityasin\"),\n",
       " NamedUser(login=\"yigityanik\"),\n",
       " NamedUser(login=\"yigityalcin\"),\n",
       " NamedUser(login=\"yigityalin\"),\n",
       " NamedUser(login=\"yigityardimci\"),\n",
       " NamedUser(login=\"yigityalnizca\"),\n",
       " NamedUser(login=\"yigityakar\"),\n",
       " NamedUser(login=\"Yigityagizcakti\"),\n",
       " NamedUser(login=\"yigityak12\"),\n",
       " NamedUser(login=\"yigityagcioglu\"),\n",
       " NamedUser(login=\"yigityaparel\"),\n",
       " NamedUser(login=\"yigityazgi\"),\n",
       " NamedUser(login=\"YigitYapalak\"),\n",
       " NamedUser(login=\"yigityakup\"),\n",
       " NamedUser(login=\"yigityalcinkaya\"),\n",
       " NamedUser(login=\"yigityamac\"),\n",
       " NamedUser(login=\"yigityargili99\"),\n",
       " NamedUser(login=\"YigitYalman\"),\n",
       " NamedUser(login=\"YigitYavuzTuncyurek\"),\n",
       " NamedUser(login=\"yigityavuz\"),\n",
       " NamedUser(login=\"yigityalcinsoy\"),\n",
       " NamedUser(login=\"Yigityakici\"),\n",
       " NamedUser(login=\"yigityarimbas\"),\n",
       " NamedUser(login=\"yigityanarsoy\"),\n",
       " NamedUser(login=\"yigityak12rgd\"),\n",
       " NamedUser(login=\"yigityazgan\"),\n",
       " NamedUser(login=\"yigityah\"),\n",
       " NamedUser(login=\"yigityasingenc\"),\n",
       " NamedUser(login=\"yigityaz\"),\n",
       " NamedUser(login=\"yigityavas\"),\n",
       " NamedUser(login=\"Yigityaldiz\"),\n",
       " NamedUser(login=\"yigityavuz1\")]"
      ]
     },
     "execution_count": 131,
     "metadata": {},
     "output_type": "execute_result"
    }
   ],
   "source": [
    "list(github.search_users(\"yigitya\"))"
   ]
  },
  {
   "cell_type": "code",
   "execution_count": 134,
   "id": "85b72a3f",
   "metadata": {},
   "outputs": [
    {
     "data": {
      "text/plain": [
       "<github.PaginatedList.PaginatedList at 0x7f7aa208f9a0>"
      ]
     },
     "execution_count": 134,
     "metadata": {},
     "output_type": "execute_result"
    }
   ],
   "source": [
    "github.search_repositories(\"python\")"
   ]
  },
  {
   "cell_type": "code",
   "execution_count": null,
   "id": "60d15a9d",
   "metadata": {},
   "outputs": [],
   "source": [
    "query = "
   ]
  }
 ],
 "metadata": {
  "kernelspec": {
   "display_name": "Python 3",
   "language": "python",
   "name": "python3"
  },
  "language_info": {
   "codemirror_mode": {
    "name": "ipython",
    "version": 3
   },
   "file_extension": ".py",
   "mimetype": "text/x-python",
   "name": "python",
   "nbconvert_exporter": "python",
   "pygments_lexer": "ipython3",
   "version": "3.8.8"
  }
 },
 "nbformat": 4,
 "nbformat_minor": 5
}
